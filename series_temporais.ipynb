{
 "cells": [
  {
   "cell_type": "markdown",
   "metadata": {},
   "source": [
    "- [Dados de covid](https://brasil.io/)\n",
    "- [Ações do Google](https://finance.yahoo.com/quote/GOOG/history?p=GOOG)\n",
    "- [Dados refugiados](https://www.migrationdataportal.org/international-data?i=refug_host&t=2021&cm49=76)\n",
    "- Corrente elétrica que passa por um resistor"
   ]
  },
  {
   "cell_type": "code",
   "execution_count": 1,
   "metadata": {},
   "outputs": [],
   "source": [
    "import yfinance as yf\n",
    "import pandas as pd\n",
    "import matplotlib.pyplot as plt\n",
    "plt.style.use(\"seaborn\")"
   ]
  },
  {
   "cell_type": "markdown",
   "metadata": {},
   "source": [
    "# Dados de covid"
   ]
  },
  {
   "cell_type": "markdown",
   "metadata": {},
   "source": [
    "# Ações do Google"
   ]
  },
  {
   "cell_type": "code",
   "execution_count": 4,
   "metadata": {},
   "outputs": [],
   "source": [
    "goog = yf.Ticker(\"goog\")"
   ]
  },
  {
   "cell_type": "code",
   "execution_count": 9,
   "metadata": {},
   "outputs": [],
   "source": [
    "df_goog = goog.history(start=\"2022-06-01\", end=\"2022-07-09\")"
   ]
  },
  {
   "cell_type": "code",
   "execution_count": 17,
   "metadata": {},
   "outputs": [
    {
     "data": {
      "text/plain": [
       "DatetimeIndex(['2022-06-01', '2022-06-02', '2022-06-03', '2022-06-06',\n",
       "               '2022-06-07', '2022-06-08', '2022-06-09', '2022-06-10',\n",
       "               '2022-06-13', '2022-06-14', '2022-06-15', '2022-06-16',\n",
       "               '2022-06-17', '2022-06-21', '2022-06-22', '2022-06-23',\n",
       "               '2022-06-24', '2022-06-27', '2022-06-28', '2022-06-29',\n",
       "               '2022-06-30', '2022-07-01', '2022-07-05', '2022-07-06',\n",
       "               '2022-07-07', '2022-07-08'],\n",
       "              dtype='datetime64[ns]', name='Date', freq=None)"
      ]
     },
     "execution_count": 17,
     "metadata": {},
     "output_type": "execute_result"
    }
   ],
   "source": [
    "df_goog.index"
   ]
  },
  {
   "cell_type": "code",
   "execution_count": 34,
   "metadata": {},
   "outputs": [
    {
     "data": {
      "image/png": "[encoded data removed]",
      "text/plain": [
       "<Figure size 432x288 with 1 Axes>"
      ]
     },
     "metadata": {},
     "output_type": "display_data"
    }
   ],
   "source": [
    "fig, ax = plt.subplots(figsize=(6,4))\n",
    "ax.plot(df_goog.index,df_goog['Close'])\n",
    "ax.set_ylabel(\"Close\")\n",
    "ax.set_xlabel(\"Data\")\n",
    "plt.xticks(rotation=30);\n",
    "plt.savefig(\"imagens/acoes_goog.eps\")"
   ]
  },
  {
   "cell_type": "markdown",
   "metadata": {},
   "source": [
    "# Refugiados"
   ]
  },
  {
   "cell_type": "code",
   "execution_count": 11,
   "metadata": {},
   "outputs": [],
   "source": [
    "colunas = [\"Year\", \"Country of Origin\", \"Country of Asylum\", \"Refugees under UNHCR’s mandate\", \"Asylum seekers\", \"IDPs of concern to UNHCR\", \"Venezuelans displaced abroad\",  \"Stateless persons\", \"Others of concern\"]\n",
    "columns_mapper = {i:colunas[i] for i in range(len(colunas))}\n",
    "refugiados_brasil = pd.read_csv(\"datasets/refugees_br.csv\",sep='\\t', header=None)\n",
    "refugiados_brasil.rename(columns=columns_mapper, inplace=True)\n",
    "refugiados_brasil.sort_values(by='Year', inplace=True)"
   ]
  },
  {
   "cell_type": "code",
   "execution_count": 12,
   "metadata": {},
   "outputs": [
    {
     "data": {
      "text/html": [
       "<div>\n",
       "<style scoped>\n",
       "    .dataframe tbody tr th:only-of-type {\n",
       "        vertical-align: middle;\n",
       "    }\n",
       "\n",
       "    .dataframe tbody tr th {\n",
       "        vertical-align: top;\n",
       "    }\n",
       "\n",
       "    .dataframe thead th {\n",
       "        text-align: right;\n",
       "    }\n",
       "</style>\n",
       "<table border=\"1\" class=\"dataframe\">\n",
       "  <thead>\n",
       "    <tr style=\"text-align: right;\">\n",
       "      <th></th>\n",
       "      <th>Year</th>\n",
       "      <th>Country of Origin</th>\n",
       "      <th>Country of Asylum</th>\n",
       "      <th>Refugees under UNHCR’s mandate</th>\n",
       "      <th>Asylum seekers</th>\n",
       "      <th>IDPs of concern to UNHCR</th>\n",
       "      <th>Venezuelans displaced abroad</th>\n",
       "      <th>Stateless persons</th>\n",
       "      <th>Others of concern</th>\n",
       "    </tr>\n",
       "  </thead>\n",
       "  <tbody>\n",
       "    <tr>\n",
       "      <th>52</th>\n",
       "      <td>1969</td>\n",
       "      <td>-</td>\n",
       "      <td>Brazil (BRA)</td>\n",
       "      <td>40000</td>\n",
       "      <td>0</td>\n",
       "      <td>0</td>\n",
       "      <td>NaN</td>\n",
       "      <td>0</td>\n",
       "      <td>0</td>\n",
       "    </tr>\n",
       "    <tr>\n",
       "      <th>51</th>\n",
       "      <td>1970</td>\n",
       "      <td>-</td>\n",
       "      <td>Brazil (BRA)</td>\n",
       "      <td>40000</td>\n",
       "      <td>0</td>\n",
       "      <td>0</td>\n",
       "      <td>NaN</td>\n",
       "      <td>0</td>\n",
       "      <td>0</td>\n",
       "    </tr>\n",
       "    <tr>\n",
       "      <th>33</th>\n",
       "      <td>1971</td>\n",
       "      <td>-</td>\n",
       "      <td>Brazil (BRA)</td>\n",
       "      <td>38000</td>\n",
       "      <td>0</td>\n",
       "      <td>0</td>\n",
       "      <td>NaN</td>\n",
       "      <td>0</td>\n",
       "      <td>0</td>\n",
       "    </tr>\n",
       "    <tr>\n",
       "      <th>32</th>\n",
       "      <td>1972</td>\n",
       "      <td>-</td>\n",
       "      <td>Brazil (BRA)</td>\n",
       "      <td>37000</td>\n",
       "      <td>0</td>\n",
       "      <td>0</td>\n",
       "      <td>NaN</td>\n",
       "      <td>0</td>\n",
       "      <td>0</td>\n",
       "    </tr>\n",
       "    <tr>\n",
       "      <th>50</th>\n",
       "      <td>1973</td>\n",
       "      <td>-</td>\n",
       "      <td>Brazil (BRA)</td>\n",
       "      <td>35200</td>\n",
       "      <td>0</td>\n",
       "      <td>0</td>\n",
       "      <td>NaN</td>\n",
       "      <td>0</td>\n",
       "      <td>0</td>\n",
       "    </tr>\n",
       "  </tbody>\n",
       "</table>\n",
       "</div>"
      ],
      "text/plain": [
       "    Year Country of Origin Country of Asylum  Refugees under UNHCR’s mandate  \\\n",
       "52  1969                 -      Brazil (BRA)                           40000   \n",
       "51  1970                 -      Brazil (BRA)                           40000   \n",
       "33  1971                 -      Brazil (BRA)                           38000   \n",
       "32  1972                 -      Brazil (BRA)                           37000   \n",
       "50  1973                 -      Brazil (BRA)                           35200   \n",
       "\n",
       "    Asylum seekers  IDPs of concern to UNHCR  Venezuelans displaced abroad  \\\n",
       "52               0                         0                           NaN   \n",
       "51               0                         0                           NaN   \n",
       "33               0                         0                           NaN   \n",
       "32               0                         0                           NaN   \n",
       "50               0                         0                           NaN   \n",
       "\n",
       "    Stateless persons  Others of concern  \n",
       "52                  0                  0  \n",
       "51                  0                  0  \n",
       "33                  0                  0  \n",
       "32                  0                  0  \n",
       "50                  0                  0  "
      ]
     },
     "execution_count": 12,
     "metadata": {},
     "output_type": "execute_result"
    }
   ],
   "source": [
    "refugiados_brasil.head()"
   ]
  },
  {
   "cell_type": "code",
   "execution_count": 23,
   "metadata": {},
   "outputs": [
    {
     "data": {
      "image/png": "[encoded data removed]",
      "text/plain": [
       "<Figure size 432x288 with 1 Axes>"
      ]
     },
     "metadata": {},
     "output_type": "display_data"
    }
   ],
   "source": [
    "fig, ax = plt.subplots(figsize=(6,4))\n",
    "ano = refugiados_brasil['Year']\n",
    "nrefugiados = refugiados_brasil['Refugees under UNHCR’s mandate']\n",
    "ax.plot(ano, nrefugiados, marker='o')\n",
    "ax.set_xlabel(\"Ano\")\n",
    "ax.set_ylabel(\"Número de refugiados\")\n",
    "plt.ticklabel_format(axis=\"y\", style=\"sci\", scilimits=(0,0))\n",
    "plt.savefig(\"imagens/refugiados_brasil_onu.eps\")"
   ]
  },
  {
   "cell_type": "code",
   "execution_count": null,
   "metadata": {},
   "outputs": [],
   "source": []
  },
  {
   "cell_type": "markdown",
   "metadata": {},
   "source": []
  }
 ],
 "metadata": {
  "kernelspec": {
   "display_name": "Python 3.7.3 ('gans_trajsp3')",
   "language": "python",
   "name": "python3"
  },
  "language_info": {
   "codemirror_mode": {
    "name": "ipython",
    "version": 3
   },
   "file_extension": ".py",
   "mimetype": "text/x-python",
   "name": "python",
   "nbconvert_exporter": "python",
   "pygments_lexer": "ipython3",
   "version": "3.7.3"
  },
  "orig_nbformat": 4,
  "vscode": {
   "interpreter": {
    "hash": "72fba674bb5c41e906a02e56863160eeb44778396691dee4e92ebdc1318766f3"
   }
  }
 },
 "nbformat": 4,
 "nbformat_minor": 2
}
