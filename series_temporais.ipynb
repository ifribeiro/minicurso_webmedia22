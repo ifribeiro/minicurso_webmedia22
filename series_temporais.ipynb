{
 "cells": [
  {
   "cell_type": "markdown",
   "metadata": {},
   "source": [
    "- [Dados de covid](https://brasil.io/)\n",
    "- [Ações do Google](https://finance.yahoo.com/quote/GOOG/history?p=GOOG)\n",
    "- [Dados refugiados](https://www.migrationdataportal.org/international-data?i=refug_host&t=2021&cm49=76)\n",
    "- Corrente elétrica que passa por um resistor"
   ]
  },
  {
   "cell_type": "code",
   "execution_count": 1,
   "metadata": {},
   "outputs": [],
   "source": [
    "import yfinance as yf\n",
    "import pandas as pd\n",
    "import matplotlib.pyplot as plt\n",
    "plt.style.use(\"seaborn\")"
   ]
  },
  {
   "cell_type": "markdown",
   "metadata": {},
   "source": [
    "# Dados de covid"
   ]
  },
  {
   "cell_type": "code",
   "execution_count": 25,
   "metadata": {},
   "outputs": [
    {
     "data": {
      "text/html": [
       "<div>\n",
       "<style scoped>\n",
       "    .dataframe tbody tr th:only-of-type {\n",
       "        vertical-align: middle;\n",
       "    }\n",
       "\n",
       "    .dataframe tbody tr th {\n",
       "        vertical-align: top;\n",
       "    }\n",
       "\n",
       "    .dataframe thead th {\n",
       "        text-align: right;\n",
       "    }\n",
       "</style>\n",
       "<table border=\"1\" class=\"dataframe\">\n",
       "  <thead>\n",
       "    <tr style=\"text-align: right;\">\n",
       "      <th></th>\n",
       "      <th>date</th>\n",
       "      <th>state</th>\n",
       "      <th>city</th>\n",
       "      <th>place_type</th>\n",
       "      <th>confirmed</th>\n",
       "      <th>deaths</th>\n",
       "      <th>order_for_place</th>\n",
       "      <th>is_last</th>\n",
       "      <th>estimated_population_2019</th>\n",
       "      <th>estimated_population</th>\n",
       "      <th>city_ibge_code</th>\n",
       "      <th>confirmed_per_100k_inhabitants</th>\n",
       "      <th>death_rate</th>\n",
       "    </tr>\n",
       "  </thead>\n",
       "  <tbody>\n",
       "    <tr>\n",
       "      <th>0</th>\n",
       "      <td>2022-03-27</td>\n",
       "      <td>ES</td>\n",
       "      <td>NaN</td>\n",
       "      <td>state</td>\n",
       "      <td>1037188</td>\n",
       "      <td>14323</td>\n",
       "      <td>750</td>\n",
       "      <td>True</td>\n",
       "      <td>4018650.0</td>\n",
       "      <td>4064052.0</td>\n",
       "      <td>32.0</td>\n",
       "      <td>25521.03172</td>\n",
       "      <td>0.0138</td>\n",
       "    </tr>\n",
       "    <tr>\n",
       "      <th>1</th>\n",
       "      <td>2022-03-26</td>\n",
       "      <td>ES</td>\n",
       "      <td>NaN</td>\n",
       "      <td>state</td>\n",
       "      <td>1037086</td>\n",
       "      <td>14323</td>\n",
       "      <td>749</td>\n",
       "      <td>False</td>\n",
       "      <td>4018650.0</td>\n",
       "      <td>4064052.0</td>\n",
       "      <td>32.0</td>\n",
       "      <td>25518.52191</td>\n",
       "      <td>0.0138</td>\n",
       "    </tr>\n",
       "    <tr>\n",
       "      <th>2</th>\n",
       "      <td>2022-03-25</td>\n",
       "      <td>ES</td>\n",
       "      <td>NaN</td>\n",
       "      <td>state</td>\n",
       "      <td>1036359</td>\n",
       "      <td>14319</td>\n",
       "      <td>748</td>\n",
       "      <td>False</td>\n",
       "      <td>4018650.0</td>\n",
       "      <td>4064052.0</td>\n",
       "      <td>32.0</td>\n",
       "      <td>25500.63336</td>\n",
       "      <td>0.0138</td>\n",
       "    </tr>\n",
       "    <tr>\n",
       "      <th>3</th>\n",
       "      <td>2022-03-24</td>\n",
       "      <td>ES</td>\n",
       "      <td>NaN</td>\n",
       "      <td>state</td>\n",
       "      <td>1036087</td>\n",
       "      <td>14313</td>\n",
       "      <td>747</td>\n",
       "      <td>False</td>\n",
       "      <td>4018650.0</td>\n",
       "      <td>4064052.0</td>\n",
       "      <td>32.0</td>\n",
       "      <td>25493.94053</td>\n",
       "      <td>0.0138</td>\n",
       "    </tr>\n",
       "    <tr>\n",
       "      <th>4</th>\n",
       "      <td>2022-03-23</td>\n",
       "      <td>ES</td>\n",
       "      <td>NaN</td>\n",
       "      <td>state</td>\n",
       "      <td>1035955</td>\n",
       "      <td>14313</td>\n",
       "      <td>746</td>\n",
       "      <td>False</td>\n",
       "      <td>4018650.0</td>\n",
       "      <td>4064052.0</td>\n",
       "      <td>32.0</td>\n",
       "      <td>25490.69254</td>\n",
       "      <td>0.0138</td>\n",
       "    </tr>\n",
       "  </tbody>\n",
       "</table>\n",
       "</div>"
      ],
      "text/plain": [
       "        date state city place_type  confirmed  deaths  order_for_place  \\\n",
       "0 2022-03-27    ES  NaN      state    1037188   14323              750   \n",
       "1 2022-03-26    ES  NaN      state    1037086   14323              749   \n",
       "2 2022-03-25    ES  NaN      state    1036359   14319              748   \n",
       "3 2022-03-24    ES  NaN      state    1036087   14313              747   \n",
       "4 2022-03-23    ES  NaN      state    1035955   14313              746   \n",
       "\n",
       "   is_last  estimated_population_2019  estimated_population  city_ibge_code  \\\n",
       "0     True                  4018650.0             4064052.0            32.0   \n",
       "1    False                  4018650.0             4064052.0            32.0   \n",
       "2    False                  4018650.0             4064052.0            32.0   \n",
       "3    False                  4018650.0             4064052.0            32.0   \n",
       "4    False                  4018650.0             4064052.0            32.0   \n",
       "\n",
       "   confirmed_per_100k_inhabitants  death_rate  \n",
       "0                     25521.03172      0.0138  \n",
       "1                     25518.52191      0.0138  \n",
       "2                     25500.63336      0.0138  \n",
       "3                     25493.94053      0.0138  \n",
       "4                     25490.69254      0.0138  "
      ]
     },
     "execution_count": 25,
     "metadata": {},
     "output_type": "execute_result"
    }
   ],
   "source": [
    "covid_es = pd.read_csv(\"datasets/covid_es.csv\", parse_dates=[\"date\"])\n",
    "covid_es.head()"
   ]
  },
  {
   "cell_type": "code",
   "execution_count": 27,
   "metadata": {},
   "outputs": [],
   "source": [
    "covid_vix = covid_es[covid_es['city']=='Vitória']\n",
    "covid_vix = covid_vix.sort_values(by=\"date\")"
   ]
  },
  {
   "cell_type": "code",
   "execution_count": 33,
   "metadata": {},
   "outputs": [
    {
     "data": {
      "text/plain": [
       "''"
      ]
     },
     "execution_count": 33,
     "metadata": {},
     "output_type": "execute_result"
    },
    {
     "data": {
      "image/png": "[encoded data removed]",
      "text/plain": [
       "<Figure size 432x288 with 1 Axes>"
      ]
     },
     "metadata": {},
     "output_type": "display_data"
    }
   ],
   "source": [
    "fig, ax = plt.subplots(figsize=(6,4))\n",
    "ax.plot(covid_vix['date'].values, covid_vix['deaths'].values)\n",
    "ax.set_xlabel(\"Data\")\n",
    "ax.set_ylabel(\"Mortes\")\n",
    "plt.xticks(rotation=25)\n",
    "plt.savefig(\"imagens/covid_es.eps\")\n",
    "\n",
    ";"
   ]
  },
  {
   "cell_type": "markdown",
   "metadata": {},
   "source": [
    "# Ações do Google"
   ]
  },
  {
   "cell_type": "code",
   "execution_count": 4,
   "metadata": {},
   "outputs": [],
   "source": [
    "goog = yf.Ticker(\"goog\")"
   ]
  },
  {
   "cell_type": "code",
   "execution_count": 9,
   "metadata": {},
   "outputs": [],
   "source": [
    "df_goog = goog.history(start=\"2022-06-01\", end=\"2022-07-09\")"
   ]
  },
  {
   "cell_type": "code",
   "execution_count": 34,
   "metadata": {},
   "outputs": [
    {
     "data": {
      "image/png": "[encoded data removed]",
      "text/plain": [
       "<Figure size 432x288 with 1 Axes>"
      ]
     },
     "metadata": {},
     "output_type": "display_data"
    }
   ],
   "source": [
    "fig, ax = plt.subplots(figsize=(6,4))\n",
    "ax.plot(df_goog.index,df_goog['Close'])\n",
    "ax.set_ylabel(\"Close\")\n",
    "ax.set_xlabel(\"Data\")\n",
    "plt.xticks(rotation=30);\n",
    "plt.savefig(\"imagens/acoes_goog.eps\")"
   ]
  },
  {
   "cell_type": "markdown",
   "metadata": {},
   "source": [
    "# Refugiados"
   ]
  },
  {
   "cell_type": "code",
   "execution_count": 11,
   "metadata": {},
   "outputs": [],
   "source": [
    "colunas = [\"Year\", \"Country of Origin\", \"Country of Asylum\", \"Refugees under UNHCR’s mandate\", \"Asylum seekers\", \"IDPs of concern to UNHCR\", \"Venezuelans displaced abroad\",  \"Stateless persons\", \"Others of concern\"]\n",
    "columns_mapper = {i:colunas[i] for i in range(len(colunas))}\n",
    "refugiados_brasil = pd.read_csv(\"datasets/refugees_br.csv\",sep='\\t', header=None)\n",
    "refugiados_brasil.rename(columns=columns_mapper, inplace=True)\n",
    "refugiados_brasil.sort_values(by='Year', inplace=True)"
   ]
  },
  {
   "cell_type": "code",
   "execution_count": 12,
   "metadata": {},
   "outputs": [
    {
     "data": {
      "text/html": [
       "<div>\n",
       "<style scoped>\n",
       "    .dataframe tbody tr th:only-of-type {\n",
       "        vertical-align: middle;\n",
       "    }\n",
       "\n",
       "    .dataframe tbody tr th {\n",
       "        vertical-align: top;\n",
       "    }\n",
       "\n",
       "    .dataframe thead th {\n",
       "        text-align: right;\n",
       "    }\n",
       "</style>\n",
       "<table border=\"1\" class=\"dataframe\">\n",
       "  <thead>\n",
       "    <tr style=\"text-align: right;\">\n",
       "      <th></th>\n",
       "      <th>Year</th>\n",
       "      <th>Country of Origin</th>\n",
       "      <th>Country of Asylum</th>\n",
       "      <th>Refugees under UNHCR’s mandate</th>\n",
       "      <th>Asylum seekers</th>\n",
       "      <th>IDPs of concern to UNHCR</th>\n",
       "      <th>Venezuelans displaced abroad</th>\n",
       "      <th>Stateless persons</th>\n",
       "      <th>Others of concern</th>\n",
       "    </tr>\n",
       "  </thead>\n",
       "  <tbody>\n",
       "    <tr>\n",
       "      <th>52</th>\n",
       "      <td>1969</td>\n",
       "      <td>-</td>\n",
       "      <td>Brazil (BRA)</td>\n",
       "      <td>40000</td>\n",
       "      <td>0</td>\n",
       "      <td>0</td>\n",
       "      <td>NaN</td>\n",
       "      <td>0</td>\n",
       "      <td>0</td>\n",
       "    </tr>\n",
       "    <tr>\n",
       "      <th>51</th>\n",
       "      <td>1970</td>\n",
       "      <td>-</td>\n",
       "      <td>Brazil (BRA)</td>\n",
       "      <td>40000</td>\n",
       "      <td>0</td>\n",
       "      <td>0</td>\n",
       "      <td>NaN</td>\n",
       "      <td>0</td>\n",
       "      <td>0</td>\n",
       "    </tr>\n",
       "    <tr>\n",
       "      <th>33</th>\n",
       "      <td>1971</td>\n",
       "      <td>-</td>\n",
       "      <td>Brazil (BRA)</td>\n",
       "      <td>38000</td>\n",
       "      <td>0</td>\n",
       "      <td>0</td>\n",
       "      <td>NaN</td>\n",
       "      <td>0</td>\n",
       "      <td>0</td>\n",
       "    </tr>\n",
       "    <tr>\n",
       "      <th>32</th>\n",
       "      <td>1972</td>\n",
       "      <td>-</td>\n",
       "      <td>Brazil (BRA)</td>\n",
       "      <td>37000</td>\n",
       "      <td>0</td>\n",
       "      <td>0</td>\n",
       "      <td>NaN</td>\n",
       "      <td>0</td>\n",
       "      <td>0</td>\n",
       "    </tr>\n",
       "    <tr>\n",
       "      <th>50</th>\n",
       "      <td>1973</td>\n",
       "      <td>-</td>\n",
       "      <td>Brazil (BRA)</td>\n",
       "      <td>35200</td>\n",
       "      <td>0</td>\n",
       "      <td>0</td>\n",
       "      <td>NaN</td>\n",
       "      <td>0</td>\n",
       "      <td>0</td>\n",
       "    </tr>\n",
       "  </tbody>\n",
       "</table>\n",
       "</div>"
      ],
      "text/plain": [
       "    Year Country of Origin Country of Asylum  Refugees under UNHCR’s mandate  \\\n",
       "52  1969                 -      Brazil (BRA)                           40000   \n",
       "51  1970                 -      Brazil (BRA)                           40000   \n",
       "33  1971                 -      Brazil (BRA)                           38000   \n",
       "32  1972                 -      Brazil (BRA)                           37000   \n",
       "50  1973                 -      Brazil (BRA)                           35200   \n",
       "\n",
       "    Asylum seekers  IDPs of concern to UNHCR  Venezuelans displaced abroad  \\\n",
       "52               0                         0                           NaN   \n",
       "51               0                         0                           NaN   \n",
       "33               0                         0                           NaN   \n",
       "32               0                         0                           NaN   \n",
       "50               0                         0                           NaN   \n",
       "\n",
       "    Stateless persons  Others of concern  \n",
       "52                  0                  0  \n",
       "51                  0                  0  \n",
       "33                  0                  0  \n",
       "32                  0                  0  \n",
       "50                  0                  0  "
      ]
     },
     "execution_count": 12,
     "metadata": {},
     "output_type": "execute_result"
    }
   ],
   "source": [
    "refugiados_brasil.head()"
   ]
  },
  {
   "cell_type": "code",
   "execution_count": 23,
   "metadata": {},
   "outputs": [
    {
     "data": {
      "image/png": "[encoded data removed]",
      "text/plain": [
       "<Figure size 432x288 with 1 Axes>"
      ]
     },
     "metadata": {},
     "output_type": "display_data"
    }
   ],
   "source": [
    "fig, ax = plt.subplots(figsize=(6,4))\n",
    "ano = refugiados_brasil['Year']\n",
    "nrefugiados = refugiados_brasil['Refugees under UNHCR’s mandate']\n",
    "ax.plot(ano, nrefugiados, marker='o')\n",
    "ax.set_xlabel(\"Ano\")\n",
    "ax.set_ylabel(\"Número de refugiados\")\n",
    "plt.ticklabel_format(axis=\"y\", style=\"sci\", scilimits=(0,0))\n",
    "plt.savefig(\"imagens/refugiados_brasil_onu.eps\")"
   ]
  },
  {
   "cell_type": "code",
   "execution_count": null,
   "metadata": {},
   "outputs": [],
   "source": []
  },
  {
   "cell_type": "markdown",
   "metadata": {},
   "source": []
  }
 ],
 "metadata": {
  "kernelspec": {
   "display_name": "Python 3.7.3 ('gans_trajsp3')",
   "language": "python",
   "name": "python3"
  },
  "language_info": {
   "codemirror_mode": {
    "name": "ipython",
    "version": 3
   },
   "file_extension": ".py",
   "mimetype": "text/x-python",
   "name": "python",
   "nbconvert_exporter": "python",
   "pygments_lexer": "ipython3",
   "version": "3.7.3"
  },
  "orig_nbformat": 4,
  "vscode": {
   "interpreter": {
    "hash": "72fba674bb5c41e906a02e56863160eeb44778396691dee4e92ebdc1318766f3"
   }
  }
 },
 "nbformat": 4,
 "nbformat_minor": 2
}
